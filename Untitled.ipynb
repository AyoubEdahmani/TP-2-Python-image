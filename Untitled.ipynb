{
 "cells": [
  {
   "cell_type": "code",
   "execution_count": 74,
   "id": "fdf2ff28-36ce-4896-bdee-cc31fd324f29",
   "metadata": {},
   "outputs": [],
   "source": [
    "import cv2 as cv\n",
    "img =cv.imread(\"image.jpg\")\n"
   ]
  },
  {
   "cell_type": "code",
   "execution_count": 75,
   "id": "4e59b9de",
   "metadata": {},
   "outputs": [],
   "source": [
    "img_gray=cv.cvtColor(img,cv.COLOR_BGR2GRAY)\n"
   ]
  },
  {
   "cell_type": "code",
   "execution_count": 76,
   "id": "99480a5f",
   "metadata": {},
   "outputs": [],
   "source": [
    "h, w = img_gray.shape\n",
    "\n",
    "zoom_factor = 1.5  \n",
    "center_x, center_y = w // 2, h // 2\n",
    "new_w, new_h = int(w / zoom_factor), int(h / zoom_factor)\n",
    "x1 = center_x - new_w // 2\n",
    "y1 = center_y - new_h // 2\n",
    "x2 = center_x + new_w // 2\n",
    "y2 = center_y + new_h // 2\n",
    "\n",
    "zoomed_img = img_gray[y1:y2, x1:x2]\n",
    "\n",
    "\n"
   ]
  },
  {
   "cell_type": "code",
   "execution_count": 77,
   "id": "549b862f",
   "metadata": {},
   "outputs": [
    {
     "data": {
      "text/plain": [
       "True"
      ]
     },
     "execution_count": 77,
     "metadata": {},
     "output_type": "execute_result"
    }
   ],
   "source": [
    "zoomed_img = cv.resize(zoomed_img, (w, h), interpolation=cv.INTER_LINEAR)\n",
    "cv.imwrite('compressed_zoom.jpg', zoomed_img, [int(cv.IMWRITE_JPEG_QUALITY), 75])\n"
   ]
  }
 ],
 "metadata": {
  "kernelspec": {
   "display_name": "base",
   "language": "python",
   "name": "python3"
  },
  "language_info": {
   "codemirror_mode": {
    "name": "ipython",
    "version": 3
   },
   "file_extension": ".py",
   "mimetype": "text/x-python",
   "name": "python",
   "nbconvert_exporter": "python",
   "pygments_lexer": "ipython3",
   "version": "3.12.7"
  }
 },
 "nbformat": 4,
 "nbformat_minor": 5
}
