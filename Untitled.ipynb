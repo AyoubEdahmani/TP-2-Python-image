{
 "cells": [
  {
   "cell_type": "code",
   "execution_count": 4,
   "id": "fdf2ff28-36ce-4896-bdee-cc31fd324f29",
   "metadata": {},
   "outputs": [],
   "source": [
    "import cv2 as cv\n",
    "import numpy as np\n",
    "from PIL import Image\n",
    "\n",
    "img =cv.imread(\"image.jpg\")\n"
   ]
  },
  {
   "cell_type": "code",
   "execution_count": 5,
   "id": "4e59b9de",
   "metadata": {},
   "outputs": [],
   "source": [
    "img_rgb=img[:,:,::-1]\n",
    "gray = 0.2989 * img_rgb[:, :, 0] + 0.5870 * img_rgb[:, :, 1] + 0.1140 * img_rgb[:, :, 2]\n",
    "gray = gray.astype(np.uint8)\n"
   ]
  },
  {
   "cell_type": "code",
   "execution_count": 6,
   "id": "99480a5f",
   "metadata": {},
   "outputs": [],
   "source": [
    "compressed_img = gray[::2, ::2]\n",
    "img_to_save = Image.fromarray(compressed_img)\n",
    "img_to_save.save(\"compressed_zoom.png\")\n"
   ]
  },
  {
   "cell_type": "code",
   "execution_count": 7,
   "id": "549b862f",
   "metadata": {},
   "outputs": [],
   "source": [
    "h, w = gray.shape\n",
    "zoom_factor = 2  \n",
    "center_x, center_y = w // 2, h // 2\n",
    "new_w, new_h = int(w / zoom_factor), int(h / zoom_factor)\n",
    "x1 = center_x - new_w // 2\n",
    "y1 = center_y - new_h // 2\n",
    "x2 = center_x + new_w // 2\n",
    "y2 = center_y + new_h // 2\n",
    "zoomed_img = gray[y1:y2, x1:x2]\n",
    "img_to_save = Image.fromarray(zoomed_img)\n",
    "img_to_save.save(\"zoomed_image.png\")\n"
   ]
  }
 ],
 "metadata": {
  "kernelspec": {
   "display_name": "base",
   "language": "python",
   "name": "python3"
  },
  "language_info": {
   "codemirror_mode": {
    "name": "ipython",
    "version": 3
   },
   "file_extension": ".py",
   "mimetype": "text/x-python",
   "name": "python",
   "nbconvert_exporter": "python",
   "pygments_lexer": "ipython3",
   "version": "3.12.7"
  }
 },
 "nbformat": 4,
 "nbformat_minor": 5
}
